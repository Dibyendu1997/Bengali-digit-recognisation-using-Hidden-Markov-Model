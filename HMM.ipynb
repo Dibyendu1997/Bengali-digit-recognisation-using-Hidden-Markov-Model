{
  "nbformat": 4,
  "nbformat_minor": 0,
  "metadata": {
    "colab": {
      "name": "HMM.ipynb",
      "provenance": [],
      "collapsed_sections": []
    },
    "kernelspec": {
      "display_name": "Python 3",
      "name": "python3"
    },
    "language_info": {
      "name": "python"
    }
  },
  "cells": [
    {
      "cell_type": "markdown",
      "metadata": {
        "id": "kpzRas8R32mK"
      },
      "source": [
        "#Bengali Digit Recognition using Hidden Markov Model\n",
        "By Dibyendu Das \\\\\n",
        "M.Sc in Big Data Analytics \\\\\n",
        "Ramakrishna Mission Vivekananda Educational and Research Institute\n",
        "\n",
        "\n",
        "---\n",
        "\n",
        "\n"
      ]
    },
    {
      "cell_type": "markdown",
      "metadata": {
        "id": "h6VUGOzwJvxh"
      },
      "source": [
        "# Import necessary libraries"
      ]
    },
    {
      "cell_type": "code",
      "metadata": {
        "id": "7zRfPDnfAF8A"
      },
      "source": [
        "pip install hmmlearn"
      ],
      "execution_count": null,
      "outputs": []
    },
    {
      "cell_type": "code",
      "metadata": {
        "id": "uSJCOjXXCWR3"
      },
      "source": [
        "pip install python_speech_features"
      ],
      "execution_count": null,
      "outputs": []
    },
    {
      "cell_type": "code",
      "metadata": {
        "id": "GdjGR5U4_006"
      },
      "source": [
        "\n",
        "import itertools\n",
        "import os\n",
        "import numpy as np\n",
        "from sklearn.metrics import classification_report, confusion_matrix, accuracy_score\n",
        "from hmmlearn import hmm\n",
        "from scipy.io import wavfile\n",
        "from python_speech_features import mfcc, logfbank, delta\n",
        "import matplotlib.pyplot as plt\n",
        "import pickle   \n",
        "import warnings\n",
        "import librosa\n",
        "warnings.filterwarnings(\"ignore\")\n"
      ],
      "execution_count": null,
      "outputs": []
    },
    {
      "cell_type": "markdown",
      "metadata": {
        "id": "70-J5icmf65T"
      },
      "source": [
        "#Visualization of our dataset"
      ]
    },
    {
      "cell_type": "code",
      "metadata": {
        "colab": {
          "base_uri": "https://localhost:8080/",
          "height": 350
        },
        "id": "93ZPsC3_ozC5",
        "outputId": "514d4d7d-3093-407f-ffbd-dba7727cffbb"
      },
      "source": [
        "files = sorted(os.listdir(directory))\n",
        "n = len(files)\n",
        "data = dict()\n",
        "for i in  range(n):\n",
        "  digit = files[i][0]\n",
        "  if digit not in data.keys():\n",
        "    data[digit] = []\n",
        "  else :\n",
        "    data[digit].append(1)\n",
        "\n",
        "    \n",
        "data1 = dict()\n",
        "for key ,value in data.items():\n",
        "  data1[key] = len(value)\n",
        "data1 \n",
        "  \n",
        "# creating the dataset\n",
        "data = data1\n",
        "courses = list(data.keys())\n",
        "values = list(data.values())\n",
        "  \n",
        "fig = plt.figure(figsize = (10, 5))\n",
        " \n",
        "# creating the bar plot\n",
        "plt.bar(courses, values, color ='blue',\n",
        "        width = 0.4)\n",
        " \n",
        "plt.xlabel(\"digits\")\n",
        "plt.ylabel(\"frequency\")\n",
        "plt.title(\"Speech Data\")\n",
        "plt.show()"
      ],
      "execution_count": null,
      "outputs": [
        {
          "output_type": "display_data",
          "data": {
            "image/png": "[encoded data removed]",
            "text/plain": [
              "<Figure size 720x360 with 1 Axes>"
            ]
          },
          "metadata": {
            "tags": []
          }
        }
      ]
    },
    {
      "cell_type": "code",
      "metadata": {
        "colab": {
          "base_uri": "https://localhost:8080/",
          "height": 550
        },
        "id": "78EZfUN6k1hn",
        "outputId": "7011cca1-6423-44ba-e471-f42d03a62d43"
      },
      "source": [
        "# Here we plot the contribution of each person to our dataset\n",
        "# create data\n",
        "df = pd.DataFrame([['0', 10,10 , 10, 10,10,10,9,7],['1', 10,10 , 8, 5,5,5,5,5], ['2', 10,10 , 10, 5,5,5,5,7],\n",
        "                   ['3', 10,10 , 8, 5,5,5,5,5],['4', 10,9 , 8, 5,5,5,5,5],['5', 10,10 , 10, 5,5,5,9,9],\n",
        "                   ['6', 10,7 , 8, 5,5,5,9,9],['7', 10,7 , 8, 5,5,5,6,9],['8', 8,9 , 8, 5,7,5,6,9],\n",
        "                   ['9', 10,8 , 10, 5,5,5,5,7]],\n",
        "                  columns=['Digit', 'person 1', 'person 2', 'person 3', 'person 4','person 5','person 6','person 7','person 8'])\n",
        "# view data\n",
        "print(df)\n",
        "  \n",
        "# plot data in stack manner of bar type\n",
        "plt.figure(figsize=(10,5))\n",
        "df.plot(x='Digit', kind='bar', stacked=True,\n",
        "        title='Data set',legend = False,rot=0)"
      ],
      "execution_count": null,
      "outputs": [
        {
          "output_type": "stream",
          "text": [
            "  Digit  person 1  person 2  person 3  ...  person 5  person 6  person 7  person 8\n",
            "0     0        10        10        10  ...        10        10         9         7\n",
            "1     1        10        10         8  ...         5         5         5         5\n",
            "2     2        10        10        10  ...         5         5         5         7\n",
            "3     3        10        10         8  ...         5         5         5         5\n",
            "4     4        10         9         8  ...         5         5         5         5\n",
            "5     5        10        10        10  ...         5         5         9         9\n",
            "6     6        10         7         8  ...         5         5         9         9\n",
            "7     7        10         7         8  ...         5         5         6         9\n",
            "8     8         8         9         8  ...         7         5         6         9\n",
            "9     9        10         8        10  ...         5         5         5         7\n",
            "\n",
            "[10 rows x 9 columns]\n"
          ],
          "name": "stdout"
        },
        {
          "output_type": "execute_result",
          "data": {
            "text/plain": [
              "<matplotlib.axes._subplots.AxesSubplot at 0x7fd8b9dbf250>"
            ]
          },
          "metadata": {
            "tags": []
          },
          "execution_count": 150
        },
        {
          "output_type": "display_data",
          "data": {
            "text/plain": [
              "<Figure size 720x360 with 0 Axes>"
            ]
          },
          "metadata": {
            "tags": []
          }
        },
        {
          "output_type": "display_data",
          "data": {
            "image/png": "[encoded data removed]",
            "text/plain": [
              "<Figure size 432x288 with 1 Axes>"
            ]
          },
          "metadata": {
            "tags": []
          }
        }
      ]
    },
    {
      "cell_type": "markdown",
      "metadata": {
        "id": "KgRD8o25KdjG"
      },
      "source": [
        "#Data loader"
      ]
    },
    {
      "cell_type": "code",
      "metadata": {
        "id": "yr0KrpPZKcjs"
      },
      "source": [
        "directory = \"/content/drive/MyDrive/data/\""
      ],
      "execution_count": null,
      "outputs": []
    },
    {
      "cell_type": "code",
      "metadata": {
        "id": "jOW0u8uTAJ1k"
      },
      "source": [
        "\n",
        "def build_dataset(sound_path=directory):\n",
        "    files = sorted(os.listdir(sound_path))\n",
        "    x_train = []\n",
        "    y_train = []\n",
        "    x_test = []\n",
        "    y_test = []\n",
        "    data = dict()\n",
        "    n = len(files)\n",
        "    print(n)\n",
        "    for i in range(n):\n",
        "      feature = feature_extractor(sound_path=sound_path + files[i])\n",
        "      digit = files[i][0]                           # as our file format is in the form \"01.wav\" ,\"512.wav\"\n",
        "      if digit not in data.keys():                  # in this the first digit is our class i.e in \"01.wav\"--> 0is our clss\n",
        "          data[digit] = []                          # \"512.wav\"-->5 is our class\n",
        "          x_test.append(feature)\n",
        "          y_test.append(digit)\n",
        "      else:\n",
        "          if np.random.rand() < 0.2:                #Split our train data and test data in 80%-20%  format\n",
        "              x_test.append(feature)\n",
        "              y_test.append(digit)\n",
        "          else:\n",
        "              x_train.append(feature)\n",
        "              y_train.append(digit)\n",
        "              data[digit].append(feature)\n",
        "    return x_train, y_train, x_test, y_test, data\n"
      ],
      "execution_count": null,
      "outputs": []
    },
    {
      "cell_type": "markdown",
      "metadata": {
        "id": "T8KMa4FRKliy"
      },
      "source": [
        "#Normalize  wave data and Extracting MFCC Features"
      ]
    },
    {
      "cell_type": "code",
      "metadata": {
        "id": "VHgcAUY5Kk96"
      },
      "source": [
        "def audio_norm(data):\n",
        "    max_data = np.max(data)\n",
        "    min_data = np.min(data)\n",
        "    data = (data-min_data)/(max_data-min_data+1e-6)\n",
        "    return data-0.55"
      ],
      "execution_count": null,
      "outputs": []
    },
    {
      "cell_type": "code",
      "metadata": {
        "id": "NEXiK2iqANqU"
      },
      "source": [
        "def feature_extractor(sound_path):\n",
        "    sampling_freq, audio = wavfile.read(sound_path)            #read audio file\n",
        "    audio = audio_norm(audio)                                  #normalize audio file\n",
        "    # print(audio)\n",
        "    mfcc_features = mfcc(audio, sampling_freq,nfft = 2048,numcep=13,nfilt=13) # Extracting mfcc feature for each audio file\n",
        "    return mfcc_features                                        # here we only take 13 cepstrum value\n"
      ],
      "execution_count": null,
      "outputs": []
    },
    {
      "cell_type": "markdown",
      "metadata": {
        "id": "FESH5Y2nLkNo"
      },
      "source": [
        "#In this section we define our Train Model and Prediction Method"
      ]
    },
    {
      "cell_type": "code",
      "metadata": {
        "id": "ZGmpFZ93AStG"
      },
      "source": [
        "def train_model(data):\n",
        "  learned_hmm = dict()                                                #as we are going to create TEN(10) models for 10 digits\n",
        "  for label in data.keys():                                           #for that reason we are creating a dictionary\n",
        "    model = hmm.GMMHMM(verbose=False,n_components=10,n_mix=8, n_iter=200)    \n",
        "                                                                     #here number of components are 10 and number of gaussian mixture\n",
        "    feature = np.ndarray(shape=(1, 13))                              #is 8\n",
        "    for list_feature in data[label]:\n",
        "      # print(np.array(list_feature).shape)\n",
        "\n",
        "      feature = np.vstack((feature, list_feature))                    #we stack all features corresponding to one digit\n",
        "      # print(np.array(feature).shape)\n",
        "    print(feature,np.array(feature).shape) \n",
        "    obj = model.fit(feature)                                         #for each digit we fit a model\n",
        "    learned_hmm[label] = obj\n",
        "  return learned_hmm\n"
      ],
      "execution_count": null,
      "outputs": []
    },
    {
      "cell_type": "code",
      "metadata": {
        "id": "eaHui3gyAV57"
      },
      "source": [
        "\n",
        "def prediction(test_data, trained):\n",
        "  # predict list of test\n",
        "  predict_label = []\n",
        "  names = []\n",
        "  if type(test_data) == type([]):                               # if test data is ia list then drive into this loop\n",
        "      for test in test_data:\n",
        "          scores = []\n",
        "          for node in trained.keys():                           #for each digit in test set we predict scores from\n",
        "              scores.append(trained[node].score(test))          #10 different models ,i.e we get a list [a,b,c,d,e,f,g,h,i,j]\n",
        "              print(scores)                                     # and after getting the scores we take the maximum one\n",
        "              names.append(node)                              \n",
        "          predict_label.append(scores.index(max(scores)))\n",
        "  else:\n",
        "      scores = []\n",
        "      for node in trained.keys():\n",
        "          scores.append(trained[node].score(test_data))\n",
        "          names.append(node)\n",
        "      predict_label.append(scores.index(max(scores)))\n",
        "  return names[predict_label[0]]"
      ],
      "execution_count": null,
      "outputs": []
    },
    {
      "cell_type": "code",
      "metadata": {
        "id": "M-rOBlzXAf-S"
      },
      "source": [
        "def score(test_data, trained):                           #I define this score function for getting score from different\n",
        "  if type(test_data) == type([]):                        # trained models for a single wave file\n",
        "    scores = []\n",
        "    names = []\n",
        "    for node in trained.keys():\n",
        "      scores.append(trained[node].score(test_data))      #trained[node] is associated with a perticular hmm for a digit\n",
        "      names.append(node)                                 #trained[node].score(test_data) gives a score corresponding to \n",
        "                                                         #that specific hmm\n",
        "  else :\n",
        "    scores = []\n",
        "    names = []\n",
        "    for node in trained.keys():\n",
        "      names.append(node)\n",
        "      scores.append(trained[node].score(test_data))\n",
        "  return scores - min(scores)                            #scores are generally in negative sign ,\n",
        "                                                         #for positive score we do scores - min(scores)   "
      ],
      "execution_count": null,
      "outputs": []
    },
    {
      "cell_type": "code",
      "metadata": {
        "id": "yEGVvcHKAct9"
      },
      "source": [
        "\n",
        "def plot_confusion_matrix(cm, classes,                   # I define this function for ploting Confusuion Matrix\n",
        "                          normalize=False,\n",
        "                          title='Confusion matrix',                    \n",
        "                          cmap=plt.cm.Blues)\n",
        "  plt.imshow(cm, interpolation='nearest', cmap=cmap)\n",
        "  plt.title(title)\n",
        "  plt.colorbar()\n",
        "  tick_marks = np.arange(len(classes))\n",
        "  plt.xticks(tick_marks, classes, rotation=45)\n",
        "  plt.yticks(tick_marks, classes)\n",
        "\n",
        "  fmt = '.2f' if normalize else 'd'\n",
        "  thresh = cm.max() / 2.\n",
        "  for i, j in itertools.product(range(cm.shape[0]), range(cm.shape[1])):\n",
        "      plt.text(j, i, format(cm[i, j], fmt),\n",
        "                horizontalalignment=\"center\",\n",
        "                color=\"white\" if cm[i, j] > thresh else \"black\")\n",
        "\n",
        "  plt.tight_layout()\n",
        "  plt.ylabel('True label')\n",
        "  plt.xlabel('Predicted label')\n",
        "  plt.show()\n"
      ],
      "execution_count": null,
      "outputs": []
    },
    {
      "cell_type": "code",
      "metadata": {
        "id": "aAbWkRwuAht9"
      },
      "source": [
        "\n",
        "def report(y_test, y_pred, show_cm=True):\n",
        "  print(\"confusion_matrix:\\n\\n\", confusion_matrix(y_test, y_pred))\n",
        "  print(\"----------------------------------------------------------\")\n",
        "  print(\"----------------------------------------------------------\\n\")\n",
        "  print(\"classification_report:\\n\\n\", classification_report(y_test, y_pred))\n",
        "  print(\"----------------------------------------------------------\")\n",
        "  print(\"----------------------------------------------------------\\n\")\n",
        "  print(\"Accuracy:\", accuracy_score(y_test, y_pred))\n",
        "  print(\"----------------------------------------------------------\")\n",
        "  print(\"----------------------------------------------------------\\n\")\n",
        "  if show_cm:\n",
        "      plot_confusion_matrix(confusion_matrix(y_test, y_pred), [0, 1, 2, 3, 4, 5, 6, 7, 8, 9])\n"
      ],
      "execution_count": null,
      "outputs": []
    },
    {
      "cell_type": "code",
      "metadata": {
        "id": "iCcXKk1IWI37"
      },
      "source": [
        "'''\n",
        "so basically have the data folder in same directory change name of folder in code accordingly\n",
        "block 1 down in the code for training and dumping in pickle file\n",
        "block 2 for opening trained weights from pickle file\n",
        "block 3 for testing on whatever accordingly see\n",
        "'''"
      ],
      "execution_count": null,
      "outputs": []
    },
    {
      "cell_type": "code",
      "metadata": {
        "id": "1ZniH44iTmCC"
      },
      "source": [
        "x_train, y_train, x_test, y_test, data = build_dataset()"
      ],
      "execution_count": null,
      "outputs": []
    },
    {
      "cell_type": "code",
      "metadata": {
        "colab": {
          "base_uri": "https://localhost:8080/",
          "height": 1000
        },
        "id": "pftJ2JCbDG_t",
        "outputId": "590e8741-1f4a-4be6-ed0d-905b023bf449"
      },
      "source": [
        "'''Block 1 start'''\n",
        "\n",
        "learned_hmm = train_model(data)                  #train our model and save as .pkl file\n",
        "with open(\"learned.pkl\", \"wb\") as file:\n",
        "    pickle.dump(learned_hmm, file)\n",
        "print(\"training done\")\n",
        "'''Block 1 end'''"
      ],
      "execution_count": null,
      "outputs": [
        {
          "output_type": "stream",
          "text": [
            "[[ 1.          2.56546322  4.09905813 ... 11.88803586 12.\n",
            "  11.88803586]\n",
            " [-4.30945655 -7.99407128 -1.01982264 ...  2.67198482  2.3350247\n",
            "  -0.72284642]\n",
            " [-4.40428222 -8.7230757  -8.03497637 ...  6.74597209  2.889353\n",
            "   0.99956068]\n",
            " ...\n",
            " [-6.01129132  8.13481919  8.94002474 ... -2.99591235  0.29859697\n",
            "   5.32863318]\n",
            " [-6.01106987  8.4351306   8.39145119 ... -3.86634403  0.6907249\n",
            "   5.2467493 ]\n",
            " [-6.30750228  8.76036876  8.7562141  ... -4.38374722  2.08896043\n",
            "   4.71936014]] (12049, 13)\n",
            "[[-3.67141089 -4.19094936  5.48189656 ...  2.21364083  0.59080236\n",
            "  -0.45791666]\n",
            " [-3.41712879 -7.68073928  3.22999316 ...  1.21772903  3.94286642\n",
            "  -1.10519024]\n",
            " [-3.85471192 -6.83904584  8.73762876 ...  4.19035227  3.54062551\n",
            "  -0.28103168]\n",
            " ...\n",
            " [-4.02978754 13.28089907  9.49679016 ...  2.89074743  1.62171293\n",
            "   1.3868739 ]\n",
            " [-4.02990301 13.30865344  9.77563051 ...  3.05123124  0.70024891\n",
            "   1.93562987]\n",
            " [-4.32562024 13.49532997  9.53445316 ...  2.94480814  0.87165438\n",
            "   1.70441468]] (7570, 13)\n",
            "[[ -3.40711254  -3.66597708   6.49888165 ...   4.28613809   3.14068177\n",
            "    2.02763518]\n",
            " [ -4.43291737 -12.605678    -0.49656568 ...  -0.01796441   1.39566562\n",
            "    5.13899219]\n",
            " [ -4.70555202 -11.9256989   -0.63867588 ...  -0.74518006  -0.72259053\n",
            "    5.55721635]\n",
            " ...\n",
            " [ -5.08117871  12.58146081   9.0401939  ...   0.91778832   0.63016746\n",
            "    4.21553846]\n",
            " [ -5.08231982  12.21768876   9.51020527 ...   1.61898625   1.40259682\n",
            "    2.85415771]\n",
            " [ -5.37812868  12.40293548   9.59478508 ...   1.99253753   0.96320601\n",
            "    3.24380331]] (6352, 13)\n",
            "[[ -3.79433403  -5.27517357   6.66027623 ...  -0.33680578  -1.29791744\n",
            "    0.15475732]\n",
            " [ -3.75663607 -13.3421999   -0.89035135 ...   1.31951952  -1.03555315\n",
            "    3.90457247]\n",
            " [ -3.93933817 -13.99532971  -0.30823063 ...   2.14595571   1.67562162\n",
            "    5.00308256]\n",
            " ...\n",
            " [ -4.53846489  13.64688989   9.12703146 ...   0.8257315    2.80060224\n",
            "    0.99065453]\n",
            " [ -4.53837646  13.83893212   9.13748947 ...   1.91650058   2.14670304\n",
            "    1.01462444]\n",
            " [ -4.8343142   14.34252823   8.73577548 ...   1.96964589   1.99617166\n",
            "    1.3150548 ]] (6692, 13)\n",
            "[[ -3.78062717  -4.33085704   3.93069228 ...   2.76382045  -0.53222392\n",
            "    0.76374749]\n",
            " [ -2.53466375  -9.5727349    2.64345087 ...   2.2465408    3.25247788\n",
            "    1.67909963]\n",
            " [ -2.7168156  -10.30163836   5.33490585 ...   2.08077613   4.17957819\n",
            "    3.90107666]\n",
            " ...\n",
            " [ -3.98534965  14.5076703    8.67010627 ...   2.1356058    2.09695489\n",
            "    1.02681155]\n",
            " [ -3.98517614  14.44503169   8.72816079 ...   1.90072797   2.13652326\n",
            "    1.20480675]\n",
            " [ -4.28112508  14.54935948   8.70930232 ...   1.92762361   2.14776708\n",
            "    1.21567689]] (6971, 13)\n",
            "[[-3.23203482 -3.46674575  5.12423914 ...  1.82179998  0.70197683\n",
            "   3.11658703]\n",
            " [-3.19438425 -7.91728768  1.32949789 ...  2.10101766  3.24583698\n",
            "  -0.64387523]\n",
            " [-3.48629458 -5.89817045  1.90133068 ...  4.89094269  2.74264576\n",
            "  -1.31519192]\n",
            " ...\n",
            " [-3.89677213 12.10437266 10.16570148 ...  2.68739181  0.7812438\n",
            "   1.32047832]\n",
            " [-3.89768254 11.74362994 10.21214855 ...  2.53146452  1.49623693\n",
            "   3.17578322]\n",
            " [-4.1926395  12.09327082  9.85892924 ...  3.20517309  0.8892475\n",
            "   2.66638744]] (8857, 13)\n",
            "[[-3.39121245 -4.51912719  5.57227349 ...  1.3576202   0.50615157\n",
            "   2.37197702]\n",
            " [-4.05796243 -9.17120197 -1.82383106 ... -3.20400112  3.76028707\n",
            "   4.45994711]\n",
            " [-4.22712508 -9.92119834 -4.23382322 ... -6.73302851  3.64451115\n",
            "   3.9301584 ]\n",
            " ...\n",
            " [-3.41594987 12.33093414 10.24219038 ...  1.7114221   1.32398379\n",
            "   1.91360953]\n",
            " [-3.41587194 12.50347548 10.38642852 ...  1.96337869  1.37774277\n",
            "   1.32964667]\n",
            " [-3.7124144  13.14500417  9.72082869 ...  2.35177358  1.41524222\n",
            "   1.7072417 ]] (7173, 13)\n",
            "[[-3.08012945 -4.3220299   5.23061082 ...  1.86686898  0.16617082\n",
            "   1.96801156]\n",
            " [-3.18920412 -7.65821688  2.36805733 ...  0.22774458  1.83868569\n",
            "   2.18822093]\n",
            " [-3.58563895 -7.82463161  4.92936572 ... -0.42574771 -3.41854848\n",
            "   8.10149163]\n",
            " ...\n",
            " [-4.01722742 12.70088521 10.73757361 ...  3.80967761  0.34436984\n",
            "   2.01795838]\n",
            " [-4.01765587 12.61926626 10.89042632 ...  3.84359488  1.50624862\n",
            "   1.11953095]\n",
            " [-4.31396339 13.38792355  9.83314672 ...  1.72398127  1.8062744\n",
            "   1.69790738]] (7447, 13)\n",
            "[[ -3.4313643   -2.28029083   6.17572073 ...   2.58397178  -0.10675789\n",
            "    2.6959649 ]\n",
            " [ -4.12693513  -8.87679346   3.69958182 ...   1.24825449   2.99258346\n",
            "    0.65622738]\n",
            " [ -4.39682981 -10.37401061   8.23679291 ...   3.45920603   1.37621232\n",
            "    5.84800086]\n",
            " ...\n",
            " [ -4.92372261  12.71969628  10.25245225 ...   3.14330059   1.31700336\n",
            "    1.74179114]\n",
            " [ -4.92450208  12.90427857  10.27980676 ...   2.83619897   1.3082766\n",
            "    1.77084294]\n",
            " [ -5.22033117  13.16166796   9.89778566 ...   2.81551243   1.73683033\n",
            "    1.3312903 ]] (6360, 13)\n",
            "[[-3.79400684 -2.35612284  5.43306204 ...  1.15376917  1.2464786\n",
            "   2.31934075]\n",
            " [-3.35574036 -8.68078346  3.19636041 ...  3.1784001   3.27806083\n",
            "   0.39649267]\n",
            " [-3.70554705 -8.99319394  8.0108565  ...  3.25434944 -1.50399712\n",
            "   3.52382955]\n",
            " ...\n",
            " [-4.17392586 11.2238728  10.59592681 ...  3.9896504   0.40976703\n",
            "   1.93626226]\n",
            " [-4.17416731 11.40048134 10.56987943 ...  3.99327081  0.16455475\n",
            "   2.25660267]\n",
            " [-4.46966075 11.7682151  11.28851876 ...  2.97914328  1.85464318\n",
            "   1.29933369]] (7402, 13)\n",
            "training done\n"
          ],
          "name": "stdout"
        },
        {
          "output_type": "execute_result",
          "data": {
            "application/vnd.google.colaboratory.intrinsic+json": {
              "type": "string"
            },
            "text/plain": [
              "'Block 1 end'"
            ]
          },
          "metadata": {
            "tags": []
          },
          "execution_count": 30
        }
      ]
    },
    {
      "cell_type": "code",
      "metadata": {
        "colab": {
          "base_uri": "https://localhost:8080/",
          "height": 35
        },
        "id": "Q9dgpW-jKvta",
        "outputId": "54806c39-3847-4476-d9a9-e8deecac77bf"
      },
      "source": [
        "'''Block 2 start'''\n",
        "with open(\"learned.pkl\", \"rb\") as file:\n",
        "    learned_hmm = pickle.load(file)         #open the pkl file\n",
        "'''Block 2 start'''"
      ],
      "execution_count": null,
      "outputs": [
        {
          "output_type": "execute_result",
          "data": {
            "application/vnd.google.colaboratory.intrinsic+json": {
              "type": "string"
            },
            "text/plain": [
              "'Block 2 start'"
            ]
          },
          "metadata": {
            "tags": []
          },
          "execution_count": 31
        }
      ]
    },
    {
      "cell_type": "code",
      "metadata": {
        "colab": {
          "base_uri": "https://localhost:8080/",
          "height": 1000
        },
        "id": "gu3dl8khSg4z",
        "outputId": "df990340-a966-4b2b-902b-b9a1dfcab645"
      },
      "source": [
        "'''Block 3 start'''\n",
        "files = sorted(os.listdir(directory))\n",
        "tot_test = 0\n",
        "tot_train = 0\n",
        "n = len(x_test)\n",
        "m = len(x_train)\n",
        "pred_test = []\n",
        "pred_train = []\n",
        "for i in range(n):\n",
        "    y_pred = prediction(x_test[i], learned_hmm)     # here we call our predefine prediction function \n",
        "    if y_pred == y_test[i]:                         # if our prediction matches with our correct label then we increase\n",
        "        tot_test += 1                               # our right prediction by 1\n",
        "    pred_test.append(y_pred)                         # we do this both for our train and test set\n",
        "for i in range(m):\n",
        "    y_pred = prediction(x_train[i], learned_hmm)\n",
        "    if y_pred == y_train[i]:\n",
        "        tot_train += 1\n",
        "    pred_train.append(y_pred)\n",
        "\n",
        "report(y_test,pred_test)\n",
        "report(y_train,pred_train)\n",
        "print('########################## TRAINING ACCURACY ######################################')\n",
        "print(tot_train/m)\n",
        "print('########################## TESTING ACCURACY #######################################')\n",
        "print(tot_test/n)\n",
        "\n",
        "'''Block 3 end'''"
      ],
      "execution_count": null,
      "outputs": [
        {
          "output_type": "stream",
          "text": [
            "confusion_matrix:\n",
            "\n",
            " [[16  0  0  0  0  0  1  0  0  1]\n",
            " [ 0  7  0  0  0  1  0  1  0  0]\n",
            " [ 0  0 16  1  0  0  0  0  0  0]\n",
            " [ 0  0  0 12  1  0  0  0  0  0]\n",
            " [ 0  0  0  0  4  2  0  1  3  0]\n",
            " [ 0  0  0  0  1  8  0  0  1  0]\n",
            " [ 0  0  0  0  2  0  6  2  0  1]\n",
            " [ 0  0  0  0  1  2  0  7  0  0]\n",
            " [ 1  0  0  0  0  2  0  4 11  0]\n",
            " [ 0  0  0  0  0  0  1  0  0  5]]\n",
            "----------------------------------------------------------\n",
            "----------------------------------------------------------\n",
            "\n",
            "classification_report:\n",
            "\n",
            "               precision    recall  f1-score   support\n",
            "\n",
            "           0       0.94      0.89      0.91        18\n",
            "           1       1.00      0.78      0.88         9\n",
            "           2       1.00      0.94      0.97        17\n",
            "           3       0.92      0.92      0.92        13\n",
            "           4       0.44      0.40      0.42        10\n",
            "           5       0.53      0.80      0.64        10\n",
            "           6       0.75      0.55      0.63        11\n",
            "           7       0.47      0.70      0.56        10\n",
            "           8       0.73      0.61      0.67        18\n",
            "           9       0.71      0.83      0.77         6\n",
            "\n",
            "    accuracy                           0.75       122\n",
            "   macro avg       0.75      0.74      0.74       122\n",
            "weighted avg       0.78      0.75      0.76       122\n",
            "\n",
            "----------------------------------------------------------\n",
            "----------------------------------------------------------\n",
            "\n",
            "Accuracy: 0.7540983606557377\n",
            "----------------------------------------------------------\n",
            "----------------------------------------------------------\n",
            "\n"
          ],
          "name": "stdout"
        },
        {
          "output_type": "display_data",
          "data": {
            "image/png": "[encoded data removed]",
            "text/plain": [
              "<Figure size 432x288 with 2 Axes>"
            ]
          },
          "metadata": {
            "tags": [],
            "needs_background": "light"
          }
        },
        {
          "output_type": "stream",
          "text": [
            "confusion_matrix:\n",
            "\n",
            " [[55  0  1  0  0  2  0  0  1  0]\n",
            " [ 0 41  0  0  0  1  0  1  2  0]\n",
            " [ 0  0 41  0  0  0  0  0  0  0]\n",
            " [ 0  0  1 36  0  1  0  0  2  1]\n",
            " [ 0  0  0  0 40  0  0  2  1  0]\n",
            " [ 0  0  0  0  0 54  0  0  0  0]\n",
            " [ 0  0  0  0  0  2 44  0  2  0]\n",
            " [ 0  0  0  0  0  0  0 51  0  0]\n",
            " [ 0  0  0  0  0  0  0  0 45  0]\n",
            " [ 0  0  0  0  0  0  0  0  0 50]]\n",
            "----------------------------------------------------------\n",
            "----------------------------------------------------------\n",
            "\n",
            "classification_report:\n",
            "\n",
            "               precision    recall  f1-score   support\n",
            "\n",
            "           0       1.00      0.93      0.96        59\n",
            "           1       1.00      0.91      0.95        45\n",
            "           2       0.95      1.00      0.98        41\n",
            "           3       1.00      0.88      0.94        41\n",
            "           4       1.00      0.93      0.96        43\n",
            "           5       0.90      1.00      0.95        54\n",
            "           6       1.00      0.92      0.96        48\n",
            "           7       0.94      1.00      0.97        51\n",
            "           8       0.85      1.00      0.92        45\n",
            "           9       0.98      1.00      0.99        50\n",
            "\n",
            "    accuracy                           0.96       477\n",
            "   macro avg       0.96      0.96      0.96       477\n",
            "weighted avg       0.96      0.96      0.96       477\n",
            "\n",
            "----------------------------------------------------------\n",
            "----------------------------------------------------------\n",
            "\n",
            "Accuracy: 0.9580712788259959\n",
            "----------------------------------------------------------\n",
            "----------------------------------------------------------\n",
            "\n"
          ],
          "name": "stdout"
        },
        {
          "output_type": "display_data",
          "data": {
            "image/png": "[encoded data removed]",
            "text/plain": [
              "<Figure size 432x288 with 2 Axes>"
            ]
          },
          "metadata": {
            "tags": [],
            "needs_background": "light"
          }
        },
        {
          "output_type": "stream",
          "text": [
            "########################## TRAINING ACCURACY ######################################\n",
            "0.9580712788259959\n",
            "########################## TESTING ACCURACY #######################################\n",
            "0.7540983606557377\n"
          ],
          "name": "stdout"
        },
        {
          "output_type": "execute_result",
          "data": {
            "application/vnd.google.colaboratory.intrinsic+json": {
              "type": "string"
            },
            "text/plain": [
              "'Block 3 end'"
            ]
          },
          "metadata": {
            "tags": []
          },
          "execution_count": 32
        }
      ]
    },
    {
      "cell_type": "code",
      "metadata": {
        "id": "pokjKx9EWhUK"
      },
      "source": [
        ""
      ],
      "execution_count": null,
      "outputs": []
    },
    {
      "cell_type": "markdown",
      "metadata": {
        "id": "KVrdkqvdX6LT"
      },
      "source": [
        "# Plot  Digit wise accuracy"
      ]
    },
    {
      "cell_type": "code",
      "metadata": {
        "id": "3ZkZALunJF9q"
      },
      "source": [
        "matrix = confusion_matrix((y_test, pred_test), [0, 1, 2, 3, 4, 5, 6, 7, 8, 9])    # Digit wise accuracy for test set\n",
        "test = matrix[0].diagonal()/matrix[0].sum(axis=1)                                        \n"
      ],
      "execution_count": null,
      "outputs": []
    },
    {
      "cell_type": "code",
      "metadata": {
        "id": "bzkImyxe6V7a"
      },
      "source": [
        "matrix1 = confusion_matrix(y_train, pred_train), [0, 1, 2, 3, 4, 5, 6, 7, 8, 9]   # Digit wise accuracy for train set\n",
        "train = matrix1[0].diagonal()/matrix1[0].sum(axis=1)"
      ],
      "execution_count": null,
      "outputs": []
    },
    {
      "cell_type": "code",
      "metadata": {
        "id": "CtlhBhGaYi2O"
      },
      "source": [
        ""
      ],
      "execution_count": null,
      "outputs": []
    },
    {
      "cell_type": "markdown",
      "metadata": {
        "id": "cmXlAZ8dYrLm"
      },
      "source": [
        "#Digit wise accuracy for test set"
      ]
    },
    {
      "cell_type": "code",
      "metadata": {
        "colab": {
          "base_uri": "https://localhost:8080/",
          "height": 295
        },
        "id": "0A2O7ZdnO2SP",
        "outputId": "742ee84a-2f2d-4792-8815-6f4d525bdd76"
      },
      "source": [
        "fig, ax = plt.subplots() \n",
        "x = ['0','1','2','3','4','5','6','7','8','9']\n",
        "y = [0.88 ,0.77 ,0.94,0.92,0.5,0.8,0.54,0.7,0.61,0.83]\n",
        "width = 0.75 # the width of the bars \n",
        "ind = np.arange(len(y))  # the x locations for the groups\n",
        "ax.barh(ind, y, width, color=\"b\")\n",
        "ax.set_yticks(ind+width/2)\n",
        "ax.set_yticklabels(x, minor=False)\n",
        "plt.title('test_result')\n",
        "plt.xlabel('accuracy')\n",
        "plt.ylabel('Digits')  \n",
        "for i, v in enumerate(y):\n",
        "    ax.text(v+0.01, i, str(v), color='blue', fontweight='bold')\n"
      ],
      "execution_count": null,
      "outputs": [
        {
          "output_type": "display_data",
          "data": {
            "image/png": "[encoded data removed]",
            "text/plain": [
              "<Figure size 432x288 with 1 Axes>"
            ]
          },
          "metadata": {
            "tags": [],
            "needs_background": "light"
          }
        }
      ]
    },
    {
      "cell_type": "markdown",
      "metadata": {
        "id": "zMK56RZgYwPI"
      },
      "source": [
        "#Digit wise accuracy for train set"
      ]
    },
    {
      "cell_type": "code",
      "metadata": {
        "colab": {
          "base_uri": "https://localhost:8080/",
          "height": 295
        },
        "id": "vB9ZgReJ6myH",
        "outputId": "3d08f9a1-9210-4bfc-beeb-d6b1cf3073d6"
      },
      "source": [
        "fig, ax = plt.subplots() \n",
        "x = ['0','1','2','3','4','5','6','7','8','9']\n",
        "y = [0.93 ,0.91 ,1.0,0.87,0.93,1.0,0.91,1.0,1.0,1.0]\n",
        "width = 0.75 # the width of the bars \n",
        "ind = np.arange(len(y))  # the x locations for the groups\n",
        "ax.barh(ind, y, width, color=\"r\")\n",
        "ax.set_yticks(ind+width/2)\n",
        "ax.set_yticklabels(x, minor=False)\n",
        "plt.title('train_result')\n",
        "plt.xlabel('accuracy')\n",
        "plt.ylabel('Digits')  \n",
        "for i, v in enumerate(y):\n",
        "    ax.text(v+0.01, i, str(v), color='blue', fontweight='bold')"
      ],
      "execution_count": null,
      "outputs": [
        {
          "output_type": "display_data",
          "data": {
            "image/png": "[encoded data removed]",
            "text/plain": [
              "<Figure size 432x288 with 1 Axes>"
            ]
          },
          "metadata": {
            "tags": [],
            "needs_background": "light"
          }
        }
      ]
    },
    {
      "cell_type": "markdown",
      "metadata": {
        "id": "i95_c6usY2x2"
      },
      "source": [
        "#Here we plot the scores given by Ten different Models and Highlight The maximum one by RED colour "
      ]
    },
    {
      "cell_type": "code",
      "metadata": {
        "id": "WAP0XBpqY0Zj"
      },
      "source": [
        ""
      ],
      "execution_count": null,
      "outputs": []
    },
    {
      "cell_type": "code",
      "metadata": {
        "id": "KoLkLzwQIdtB"
      },
      "source": [
        "\n",
        "single_test = feature_extractor('/content/drive/MyDrive/data/5-12.wav')   # given wave file corresponds to digit 5\n",
        "value = score(single_test, learned_hmm)                                   # maximum score given by hmm model which corresponds to digit 5"
      ],
      "execution_count": null,
      "outputs": []
    },
    {
      "cell_type": "code",
      "metadata": {
        "colab": {
          "base_uri": "https://localhost:8080/",
          "height": 405
        },
        "id": "FvSWXK9D46lS",
        "outputId": "a9f3cdf6-4f48-46c5-cf3b-33b87441862a"
      },
      "source": [
        "plt.figure(figsize=(10,6))\n",
        "clrs = ['grey' if (x < max(value)) else 'red' for x in value ]\n",
        "idx =np.array(['0','1','2','3','4','5','6','7','8','9'])\n",
        "plt.bar(idx, value, color=clrs)\n",
        "\n",
        "plt.xlabel(\" Models\")\n",
        "plt.ylabel(\"Scores\")"
      ],
      "execution_count": null,
      "outputs": [
        {
          "output_type": "execute_result",
          "data": {
            "text/plain": [
              "Text(0, 0.5, 'Scores')"
            ]
          },
          "metadata": {
            "tags": []
          },
          "execution_count": 45
        },
        {
          "output_type": "display_data",
          "data": {
            "image/png": "[encoded data removed]",
            "text/plain": [
              "<Figure size 720x432 with 1 Axes>"
            ]
          },
          "metadata": {
            "tags": [],
            "needs_background": "light"
          }
        }
      ]
    },
    {
      "cell_type": "markdown",
      "metadata": {
        "id": "2RgLQIu5VXFB"
      },
      "source": [
        "# In this section i play with parameters and write down the training and testing accuracy\n",
        "\n",
        "1.   Number of states = 3 ||\n",
        "Number of Mixture = 2 ||\n",
        "Number of Iteration = 100 ||\n",
        "training Accuracy = 0.64344 ||\n",
        "testing Accuracy = 0.4324\n",
        "2. Number of states = 5 ||\n",
        "Number of Mixture = 2 ||\n",
        "Number of Iteration = 100 ||\n",
        "training Accuracy = 0.77 ||\n",
        "testing Accuracy = 0.55  \n",
        "\n",
        "\n",
        "3.   Number of states = 7 ||\n",
        "Number of Mixture = 2 ||\n",
        "Number of Iteration = 100 ||\n",
        "training Accuracy = 0.8278 ||\n",
        "testing Accuracy = 0.612 \n",
        "4.  Number of states = 10 ||\n",
        "Number of Mixture = 2 ||\n",
        "Number of Iteration = 100 ||\n",
        "training Accuracy = 0.91 ||\n",
        "testing Accuracy = 0.67 \n",
        "\n",
        "\n",
        "5.   Number of states = 10 ||\n",
        "Number of Mixture = 3 ||\n",
        "Number of Iteration = 100 ||\n",
        "training Accuracy = 0.9672 ||\n",
        "testing Accuracy = 0.6846\n",
        "6.   Number of states = 10 ||\n",
        "Number of Mixture = 4 ||\n",
        "Number of Iteration = 100 || \n",
        "training Accuracy = 0.901 || \n",
        "testing Accuracy = 0.7117 \n",
        "\n",
        "\n",
        "7.   Number of states = 10 ||\n",
        "Number of Mixture = 5 ||\n",
        "Number of Iteration = 100 || \n",
        "training Accuracy = 0.92 ||\n",
        "testing Accuracy = 0.7217\n",
        "8.   Number of states = 10 ||\n",
        "Number of Mixture = 7 ||\n",
        "Number of Iteration = 150 ||\n",
        "training Accuracy = 0.93 ||\n",
        "testing Accuracy = 0.70\n",
        "\n",
        "\n",
        "9.   Number of states = 12 ||\n",
        "Number of Mixture = 8 || \n",
        "Number of Iteration = 300 ||\n",
        "training Accuracy = 0.96 ||\n",
        "testing Accuracy = 0.742\n",
        "10. Number of states = 20 ||\n",
        "Number of Mixture = 9 ||\n",
        "Number of Iteration = 300 ||\n",
        "training Accuracy = 0.99 || \n",
        "testing Accuracy = 0.78 \n",
        "\n",
        "\n"
      ]
    },
    {
      "cell_type": "code",
      "metadata": {
        "id": "hGizDeWb8l9q"
      },
      "source": [
        ""
      ],
      "execution_count": null,
      "outputs": []
    },
    {
      "cell_type": "markdown",
      "metadata": {
        "id": "WLrts7C9eDzt"
      },
      "source": [
        "#Training and testing accuracy when number of states are fixed"
      ]
    },
    {
      "cell_type": "code",
      "metadata": {
        "colab": {
          "base_uri": "https://localhost:8080/",
          "height": 367
        },
        "id": "-u3OWj7hl5wO",
        "outputId": "7b812061-9f91-4459-96ee-bcd2d0dd3179"
      },
      "source": [
        "l = [0.43 ,0.55 ,0.612 ,0.67]\n",
        "t = [0.64 ,0.77, 0.82 ,0.91]\n",
        "x = ['state = 3','state = 5','state = 7','State = 10']\n",
        "plt.figure(figsize=(7,5))\n",
        "plt.plot(x, l, color='green', linestyle='dashed', linewidth = 3,\n",
        "         marker='o', markerfacecolor='blue', markersize=12)\n",
        "plt.plot(x, t, color='red', linestyle='dashed', linewidth = 3,\n",
        "         marker='o', markerfacecolor='blue', markersize=12)\n",
        "plt.xlabel(\"Number Of States\")\n",
        "plt.ylabel(\"Accuracy\")\n",
        "plt.title(\" Number of Mixture is Fixed\")\n",
        "plt.legend(['testing','training'])"
      ],
      "execution_count": null,
      "outputs": [
        {
          "output_type": "execute_result",
          "data": {
            "text/plain": [
              "<matplotlib.legend.Legend at 0x7f2acd4a2190>"
            ]
          },
          "metadata": {
            "tags": []
          },
          "execution_count": 25
        },
        {
          "output_type": "display_data",
          "data": {
            "image/png": "[encoded data removed]",
            "text/plain": [
              "<Figure size 504x360 with 1 Axes>"
            ]
          },
          "metadata": {
            "tags": []
          }
        }
      ]
    },
    {
      "cell_type": "markdown",
      "metadata": {
        "id": "QauCodggeP7K"
      },
      "source": [
        "##Training and testing accuracy when number of gaussian mixtures are fixed"
      ]
    },
    {
      "cell_type": "code",
      "metadata": {
        "colab": {
          "base_uri": "https://localhost:8080/",
          "height": 367
        },
        "id": "Q4-chFB3l5tw",
        "outputId": "84ae8e6c-5dfb-4d7b-81f7-7f41e9a83a99"
      },
      "source": [
        "t1 = [0.96,0.901,0.92,0.93,0.96,0.99]\n",
        "l1 = [0.68 ,0.71 ,0.72,0.74,0.75,0.78]\n",
        "plt.figure(figsize=(7,5))\n",
        "x = ['Mix = 3','Mix = 4','Mix = 5','Mix = 7','Mix = 8','Mix = 9']\n",
        "plt.plot(x, l1, color='black', linestyle='dashed', linewidth = 3,\n",
        "         marker='o', markerfacecolor='blue', markersize=12)\n",
        "plt.plot(x, t1, color='m', linestyle='dashed', linewidth = 3,\n",
        "         marker='o', markerfacecolor='blue', markersize=12)\n",
        "plt.xlabel(\"Number Of Mixture\")\n",
        "plt.ylabel(\"Accuracy\")\n",
        "plt.title(\" Number of state is Fixed\")\n",
        "plt.legend(['testing','training'])"
      ],
      "execution_count": null,
      "outputs": [
        {
          "output_type": "execute_result",
          "data": {
            "text/plain": [
              "<matplotlib.legend.Legend at 0x7f2accdf7e90>"
            ]
          },
          "metadata": {
            "tags": []
          },
          "execution_count": 26
        },
        {
          "output_type": "display_data",
          "data": {
            "image/png": "[encoded data removed]",
            "text/plain": [
              "<Figure size 504x360 with 1 Axes>"
            ]
          },
          "metadata": {
            "tags": []
          }
        }
      ]
    }
  ]
}
